{
 "cells": [
  {
   "cell_type": "markdown",
   "metadata": {},
   "source": [
    "# Test out the basic conditional VAE\n",
    "* Also look at how it generates per class, and from sampling"
   ]
  },
  {
   "cell_type": "code",
   "execution_count": 70,
   "metadata": {},
   "outputs": [],
   "source": [
    "import os\n",
    "import sys\n",
    "import pickle\n",
    "import numpy as np\n",
    "import pandas as pd\n",
    "from pathlib import Path\n",
    "import matplotlib.pyplot as plt\n",
    "from matplotlib.pyplot import imshow\n",
    "from IPython.display import display, HTML\n",
    "%reload_ext autoreload\n",
    "%autoreload 2\n",
    "%matplotlib inline\n",
    "\n",
    "from PIL import Image\n",
    "\n",
    "import torch\n",
    "# from torch import nn\n",
    "# from torch.autograd import Variable\n",
    "from torchvision import transforms\n",
    "\n",
    "\n",
    "# Nicer way to import the module?\n",
    "# sys.path.append(str(Path.cwd().parent))\n",
    "\n",
    "# from utils.loading import load_net\n",
    "# from utils.data import make_generators_DF\n",
    "# from utils.train_val import validate_epoch\n",
    "# from utils.evaluation import evaluate_adv_files_df, get_metrics\n",
    "\n",
    "from utils.display import read_img_to_np, torch_to_np\n",
    "\n",
    "\n",
    "\n",
    "# import foolbox\n",
    "# import json\n",
    "\n",
    "device = torch.device(\"cuda:1\")\n",
    "# print(device)\n",
    "# print(torch.cuda.device_count())\n",
    "# print(torch.cuda.current_device())\n",
    "\n",
    "# MODEL_PATH = PATH /'models' / 'cvae'\n",
    "\n",
    "def get_instance(module, name, config, *args):\n",
    "    return getattr(module, config[name]['type'])(*args, **config[name]['args'])"
   ]
  },
  {
   "cell_type": "code",
   "execution_count": 62,
   "metadata": {},
   "outputs": [],
   "source": [
    "# Loading Dataloaders, Model, weights <- make function??\n",
    "\n",
    "# Nicer way to import the module?\n",
    "sys.path.append(str(Path.cwd().parent))\n",
    "\n",
    "import model.model as module_arch\n",
    "import data_loader.data_loaders as module_data\n",
    "\n",
    "# path to dir where all training results saved\n",
    "PATH = Path('/media/rene/data/hvae/quarterL2KLD/HVAE quarterL2KLD/1211_025228')\n",
    "config_loc = PATH / 'config.json'\n",
    "weight_path = PATH / 'model_best.pth'\n",
    "\n",
    "config = json.load(open(config_loc))\n",
    "   \n",
    "data_loader = get_instance(module_data, 'data_loader', config)['train']\n",
    "valid_data_loader = get_instance(module_data, 'data_loader', config)['val']\n",
    "model = get_instance(module_arch, 'arch', config)\n",
    "checkpoint = torch.load(weight_path)\n",
    "state_dict = checkpoint['state_dict']\n",
    "if config['n_gpu'] > 1:\n",
    "    model = torch.nn.DataParallel(model)\n",
    "    \n",
    "model.load_state_dict(state_dict)\n",
    "model = model.to(device).eval()"
   ]
  },
  {
   "cell_type": "code",
   "execution_count": 63,
   "metadata": {},
   "outputs": [
    {
     "name": "stdout",
     "output_type": "stream",
     "text": [
      "arch\n",
      "epoch\n",
      "logger\n",
      "state_dict\n",
      "optimizer\n",
      "monitor_best\n",
      "config\n",
      "[140287956460024, 140287956461752, 140287956389248, 140287815444016, 140287815444088, 140287815444160, 140287815444448, 140287815444520, 140287815444808, 140287815444736, 140287815444880, 140287815445024, 140287815445096, 140287815445168, 140287815445456, 140287815445528, 140287815445816, 140287815445888, 140287815445960, 140287815446032, 140287815446104, 140287815446176, 140287815446392, 140287811424400, 140287811424544, 140287811424688, 140287811424832, 140287811424904, 140287811424328, 140287811425120, 140287811425408, 140287811425480, 140287811425840, 140287811425912, 140287811426272, 140287811426344, 140287811426704, 140287811426920, 140287811427064, 140287811427136, 140287811426848, 140287811427352, 140287811427640, 140287811427712, 140287811428072, 140287811428144, 140287811428288, 140287811371080, 140287811371224, 140287811371296]\n"
     ]
    }
   ],
   "source": [
    "for key, v in checkpoint.items():\n",
    "    print(key)\n",
    "print(checkpoint['optimizer']['param_groups'][0]['params'])"
   ]
  },
  {
   "cell_type": "code",
   "execution_count": null,
   "metadata": {},
   "outputs": [],
   "source": []
  },
  {
   "cell_type": "code",
   "execution_count": 64,
   "metadata": {},
   "outputs": [],
   "source": [
    "def display_results_auto(vae_model, config, num_samples=5, data='mnist', size = 32, label_col_name='class'):\n",
    "#     with torch.cuda.device(1): # ??? Why the fuck???\n",
    "    files_dict_loc = config['data_loader']['args']['files_dict_loc']\n",
    "    with open(files_dict_loc, 'rb') as f:\n",
    "        files_df = pickle.load(f)['val']\n",
    "    \n",
    "    all_labels = files_df[label_col_name].unique()\n",
    "    num_labels = len(all_labels)\n",
    "    row_names = []\n",
    "    col_names = ['Original', \"Reconstructed\"]\n",
    "\n",
    "    fig, ax = plt.subplots(num_samples, 2, sharex='col', sharey='row',figsize=(15,15))\n",
    "\n",
    "    for i, label in enumerate(all_labels[0:num_samples]):\n",
    "        sample_df = files_df.loc[files_df[label_col_name] == label].sample(n=1)\n",
    "        img_path = sample_df['path'].iloc[0]\n",
    "        label = sample_df[label_col_name].iloc[0]\n",
    "        row_names.append(label)\n",
    "\n",
    "        if data == 'mnist': # MNIST\n",
    "            img = read_img_to_np(img_path, bw=True)\n",
    "            transform = transforms.Compose([\n",
    "                                            transforms.Resize(size),\n",
    "                                            transforms.ToTensor(),\n",
    "                                            transforms.Normalize((0.1307,), (0.3081,))])\n",
    "        elif data == 'cifar': # CIFAR10\n",
    "            img = read_img_to_np(img_path, bw=False, size=size)\n",
    "            transform = transforms.Compose([\n",
    "                                            transforms.Resize(size),\n",
    "                                            transforms.ToTensor(),\n",
    "                                            transforms.Normalize([0.4914, 0.4822, 0.4465], \n",
    "                                                                 [0.2023, 0.1994, 0.2010])])\n",
    "\n",
    "        tensor_img = transform(Image.open(img_path)).unsqueeze(0).to(device)\n",
    "\n",
    "        tensor_label = torch.from_numpy(np.array(label)).unsqueeze(0).type(torch.LongTensor).to(device)\n",
    "        recon_x, mu, logvar = model(tensor_img, tensor_label)\n",
    "\n",
    "        ax[i, 0].imshow(img)\n",
    "        ax[i, 1].imshow(torch_to_np(recon_x))\n",
    "        ax[i, 0].axis('off')\n",
    "        ax[i, 1].axis('off')\n",
    "\n",
    "    for curr_ax, col in zip(ax[0], col_names):\n",
    "        curr_ax.set_title(col)\n",
    "\n",
    "    for curr_ax, row in zip(ax[:,0], row_names):\n",
    "        curr_ax.set_ylabel(row, rotation=0, size='large')"
   ]
  },
  {
   "cell_type": "code",
   "execution_count": 65,
   "metadata": {},
   "outputs": [
    {
     "data": {
      "image/png": "[encoded data removed]",
      "text/plain": [
       "<Figure size 1080x1080 with 6 Axes>"
      ]
     },
     "metadata": {},
     "output_type": "display_data"
    }
   ],
   "source": [
    "display_results_auto(model, config, num_samples=3)"
   ]
  },
  {
   "cell_type": "code",
   "execution_count": null,
   "metadata": {},
   "outputs": [],
   "source": []
  }
 ],
 "metadata": {
  "kernelspec": {
   "display_name": "ADV",
   "language": "python",
   "name": "adv"
  },
  "language_info": {
   "codemirror_mode": {
    "name": "ipython",
    "version": 3
   },
   "file_extension": ".py",
   "mimetype": "text/x-python",
   "name": "python",
   "nbconvert_exporter": "python",
   "pygments_lexer": "ipython3",
   "version": "3.6.3"
  }
 },
 "nbformat": 4,
 "nbformat_minor": 2
}
