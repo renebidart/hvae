{
 "cells": [
  {
   "cell_type": "markdown",
   "metadata": {},
   "source": [
    "# Shapes Dataset"
   ]
  },
  {
   "cell_type": "code",
   "execution_count": 25,
   "metadata": {},
   "outputs": [],
   "source": [
    "import os\n",
    "import sys\n",
    "import pickle\n",
    "import numpy as np\n",
    "import pandas as pd\n",
    "from pathlib import Path\n",
    "import matplotlib.pyplot as plt\n",
    "from matplotlib.pyplot import imshow\n",
    "from IPython.display import display, HTML\n",
    "%reload_ext autoreload\n",
    "%autoreload 2\n",
    "%matplotlib inline\n",
    "\n",
    "from random import randint\n",
    "from PIL import Image, ImageDraw"
   ]
  },
  {
   "cell_type": "code",
   "execution_count": 13,
   "metadata": {},
   "outputs": [
    {
     "data": {
      "text/plain": [
       "<matplotlib.image.AxesImage at 0x7fa5d74183c8>"
      ]
     },
     "execution_count": 13,
     "metadata": {},
     "output_type": "execute_result"
    },
    {
     "data": {
      "image/png": "[encoded data removed]",
      "text/plain": [
       "<Figure size 432x288 with 1 Axes>"
      ]
     },
     "metadata": {},
     "output_type": "display_data"
    }
   ],
   "source": [
    "im = Image.fromarray(np.uint8(np.zeros((16,16))))\n",
    "draw = ImageDraw.Draw(im)\n",
    "draw.rectangle(((im.size[1]/4, im.size[1]/4), (im.size[1]*3/4, im.size[1]*3/4)), fill=128, outline=128)\n",
    "del draw\n",
    "\n",
    "imshow(np.asarray(im))"
   ]
  },
  {
   "cell_type": "code",
   "execution_count": 15,
   "metadata": {},
   "outputs": [
    {
     "data": {
      "text/plain": [
       "<matplotlib.image.AxesImage at 0x7fa5d73590f0>"
      ]
     },
     "execution_count": 15,
     "metadata": {},
     "output_type": "execute_result"
    },
    {
     "data": {
      "image/png": "[encoded data removed]",
      "text/plain": [
       "<Figure size 432x288 with 1 Axes>"
      ]
     },
     "metadata": {},
     "output_type": "display_data"
    }
   ],
   "source": [
    "im = Image.fromarray(np.uint8(np.zeros((16,16))))\n",
    "draw = ImageDraw.Draw(im)\n",
    "draw.rectangle(((im.size[1]/4, im.size[1]/4), (im.size[1]*2/4, im.size[1]*3/4)), fill=128, outline=128)\n",
    "del draw\n",
    "\n",
    "imshow(np.asarray(im))"
   ]
  },
  {
   "cell_type": "code",
   "execution_count": 20,
   "metadata": {},
   "outputs": [
    {
     "data": {
      "text/plain": [
       "<matplotlib.image.AxesImage at 0x7fa5d71aceb8>"
      ]
     },
     "execution_count": 20,
     "metadata": {},
     "output_type": "execute_result"
    },
    {
     "data": {
      "image/png": "[encoded data removed]",
      "text/plain": [
       "<Figure size 432x288 with 1 Axes>"
      ]
     },
     "metadata": {},
     "output_type": "display_data"
    }
   ],
   "source": [
    "im = Image.fromarray(np.uint8(np.zeros((32,32))))\n",
    "draw = ImageDraw.Draw(im)\n",
    "draw.ellipse(((im.size[1]/4, im.size[1]/4), (im.size[1]*2/4, im.size[1]*3/4)), fill=128, outline=128)\n",
    "del draw\n",
    "\n",
    "imshow(np.asarray(im))"
   ]
  },
  {
   "cell_type": "markdown",
   "metadata": {},
   "source": [
    "# Random Shapes\n",
    "* Color: Random Uniform (1, 255)\n",
    "* location: Random Uniform over domain, except on border\n",
    "* Rectangle: Height is always twice width"
   ]
  },
  {
   "cell_type": "code",
   "execution_count": 67,
   "metadata": {},
   "outputs": [
    {
     "data": {
      "text/plain": [
       "<matplotlib.image.AxesImage at 0x7fa5d6279ba8>"
      ]
     },
     "execution_count": 67,
     "metadata": {},
     "output_type": "execute_result"
    },
    {
     "data": {
      "image/png": "[encoded data removed]",
      "text/plain": [
       "<Figure size 432x288 with 1 Axes>"
      ]
     },
     "metadata": {},
     "output_type": "display_data"
    }
   ],
   "source": [
    "im = Image.fromarray(np.uint8(np.zeros((16,16))))\n",
    "\n",
    "color = randint(1, 255)\n",
    "width = randint(im.size[1]/4, im.size[1]*3/4)\n",
    "top_l = (randint(1, int(im.size[1]-width-2)), (randint(1, int(im.size[1]-width-2))))\n",
    "bottom_r = (top_l[0] + width, top_l[1] + width)\n",
    "\n",
    "draw = ImageDraw.Draw(im)\n",
    "draw.rectangle((top_l, bottom_r), fill=color, outline=color)\n",
    "del draw\n",
    "\n",
    "imshow(np.asarray(im))"
   ]
  },
  {
   "cell_type": "code",
   "execution_count": 95,
   "metadata": {},
   "outputs": [
    {
     "data": {
      "text/plain": [
       "<matplotlib.image.AxesImage at 0x7fa5d58852b0>"
      ]
     },
     "execution_count": 95,
     "metadata": {},
     "output_type": "execute_result"
    },
    {
     "data": {
      "image/png": "[encoded data removed]",
      "text/plain": [
       "<Figure size 432x288 with 1 Axes>"
      ]
     },
     "metadata": {},
     "output_type": "display_data"
    }
   ],
   "source": [
    "im = Image.fromarray(np.uint8(np.zeros((32,32))))\n",
    "\n",
    "color = randint(1, 255)\n",
    "width = randint(im.size[1]/4, im.size[1]*3/4)\n",
    "top_l = (randint(1, int(im.size[1]-width-2)), (randint(1, int(im.size[1]-width-2))))\n",
    "bottom_r = (top_l[0] + width, top_l[1] + width)\n",
    "\n",
    "draw = ImageDraw.Draw(im)\n",
    "draw.ellipse((top_l, bottom_r), fill=color, outline=color)\n",
    "del draw\n",
    "\n",
    "imshow(np.asarray(im))"
   ]
  },
  {
   "cell_type": "code",
   "execution_count": 94,
   "metadata": {},
   "outputs": [
    {
     "data": {
      "text/plain": [
       "<matplotlib.image.AxesImage at 0x7fa5d58a2b00>"
      ]
     },
     "execution_count": 94,
     "metadata": {},
     "output_type": "execute_result"
    },
    {
     "data": {
      "image/png": "[encoded data removed]",
      "text/plain": [
       "<Figure size 432x288 with 1 Axes>"
      ]
     },
     "metadata": {},
     "output_type": "display_data"
    }
   ],
   "source": [
    "im = Image.fromarray(np.uint8(np.zeros((32,32))))\n",
    "\n",
    "color = randint(1, 255)\n",
    "height = randint(im.size[1]/8, im.size[1]*3/8)*2\n",
    "width = int(height/2)\n",
    "\n",
    "top_l = (randint(1, int(im.size[1]-width-2)), (randint(1, int(im.size[1]-height-2))))\n",
    "bottom_r = (top_l[0] + width, top_l[1] + height)\n",
    "\n",
    "draw = ImageDraw.Draw(im)\n",
    "draw.ellipse((top_l, bottom_r), fill=color, outline=color)\n",
    "del draw\n",
    "\n",
    "imshow(np.asarray(im))"
   ]
  },
  {
   "cell_type": "code",
   "execution_count": 111,
   "metadata": {},
   "outputs": [
    {
     "data": {
      "text/plain": [
       "<matplotlib.image.AxesImage at 0x7fa5d5268048>"
      ]
     },
     "execution_count": 111,
     "metadata": {},
     "output_type": "execute_result"
    },
    {
     "data": {
      "image/png": "[encoded data removed]",
      "text/plain": [
       "<Figure size 432x288 with 1 Axes>"
      ]
     },
     "metadata": {},
     "output_type": "display_data"
    }
   ],
   "source": [
    "im = Image.fromarray(np.uint8(np.zeros((32,32))))\n",
    "\n",
    "color = randint(1, 255)\n",
    "height = randint(im.size[1]/8, im.size[1]*3/8)*2\n",
    "width = height\n",
    "\n",
    "top_l = (randint(1, int(im.size[1]-width-2)), (randint(1, int(im.size[1]-height-2))))\n",
    "bottom_l = (top_l[0], top_l[1] + height)\n",
    "bottom_r = (top_l[0] + width, top_l[1] + height)\n",
    "\n",
    "draw = ImageDraw.Draw(im)\n",
    "draw.polygon((top_l, bottom_l, bottom_r), fill=22, outline=color)\n",
    "del draw\n",
    "\n",
    "imshow(np.asarray(im))"
   ]
  },
  {
   "cell_type": "markdown",
   "metadata": {},
   "source": [
    "# Check Images:"
   ]
  },
  {
   "cell_type": "code",
   "execution_count": 131,
   "metadata": {},
   "outputs": [
    {
     "data": {
      "text/plain": [
       "<matplotlib.image.AxesImage at 0x7fa5d51e6358>"
      ]
     },
     "execution_count": 131,
     "metadata": {},
     "output_type": "execute_result"
    },
    {
     "data": {
      "image/png": "[encoded data removed]",
      "text/plain": [
       "<Figure size 432x288 with 1 Axes>"
      ]
     },
     "metadata": {},
     "output_type": "display_data"
    }
   ],
   "source": [
    "files_dict_loc = '/media/rene/data/hvae/shapes/sz32_rand_size_loc_fill/files_df.pkl'\n",
    "with open(files_dict_loc, 'rb') as f:\n",
    "    files_dict = pickle.load(f)['val']\n",
    "    \n",
    "sample_df = files_df.sample(n=1)\n",
    "img_path = sample_df['path'].iloc[0]\n",
    "im = Image.open(img_path)\n",
    "imshow(np.asarray(im))"
   ]
  },
  {
   "cell_type": "markdown",
   "metadata": {},
   "source": [
    "# Find out what to normalize by:\n",
    "* Only possible because this is a small dataset\n",
    "* This batchgen has no transforms"
   ]
  },
  {
   "cell_type": "code",
   "execution_count": 157,
   "metadata": {},
   "outputs": [
    {
     "name": "stdout",
     "output_type": "stream",
     "text": [
      "torch.Size([10000, 1, 32, 32]) torch.Size([10000])\n",
      "[0.7995675] [0.39934143]\n"
     ]
    }
   ],
   "source": [
    "sys.path.append(str(Path.cwd().parent))\n",
    "import model.model as module_arch\n",
    "from data_loader.data_loaders import make_gen_single_shape\n",
    "from data_loader.data_loaders import make_gen_grid\n",
    "\n",
    "files_dict_loc = '/media/rene/data/hvae/shapes/sz32_rand_size_loc/files_dict.pkl'\n",
    "\n",
    "data_loaders = make_gen_single_shape(files_dict_loc, batch_size=10000, num_workers=4, img_size=32, \n",
    "                                     path_colname='path', label_colname='shape_type', label=None, return_loc=False)\n",
    "\n",
    "all_data = next(iter(data_loaders['train']))\n",
    "print(all_data[0].shape, all_data[1].shape)\n",
    "all_samples_mean = np.mean(all_data[0].numpy(), axis=(0, 2, 3))\n",
    "all_samples_std = np.std(all_data[0].numpy(), axis=(0, 2, 3))\n",
    "print(all_samples_mean, all_samples_std)"
   ]
  },
  {
   "cell_type": "code",
   "execution_count": 159,
   "metadata": {},
   "outputs": [
    {
     "name": "stdout",
     "output_type": "stream",
     "text": [
      "torch.Size([10000, 1, 32, 32]) torch.Size([10000])\n",
      "[0.7964354] [0.2740195]\n"
     ]
    }
   ],
   "source": [
    "files_dict_loc = '/media/rene/data/hvae/shapes/sz32_rand_size_loc_g8/files_dict.pkl'\n",
    "\n",
    "data_loaders = make_gen_grid(files_dict_loc, batch_size=10000, num_workers=4, img_size=32, \n",
    "                                     path_colname='path', return_loc=False)\n",
    "\n",
    "all_data = next(iter(data_loaders['train']))\n",
    "print(all_data[0].shape, all_data[1].shape)\n",
    "all_samples_mean = np.mean(all_data[0].numpy(), axis=(0, 2, 3))\n",
    "all_samples_std = np.std(all_data[0].numpy(), axis=(0, 2, 3))\n",
    "print(all_samples_mean, all_samples_std)"
   ]
  },
  {
   "cell_type": "markdown",
   "metadata": {},
   "source": [
    "# Multiple Shapes per Image\n",
    "* Simplest case, non-overlapping shapes, each on a portion of a grid\n",
    "* Stick a bunch of the simple shapes together\n",
    "* Use 8x8 grid of shapes, so full image width is 8x32 = 256"
   ]
  },
  {
   "cell_type": "code",
   "execution_count": 145,
   "metadata": {},
   "outputs": [
    {
     "data": {
      "text/plain": [
       "<matplotlib.image.AxesImage at 0x7fa5f2b692b0>"
      ]
     },
     "execution_count": 145,
     "metadata": {},
     "output_type": "execute_result"
    },
    {
     "data": {
      "image/png": "[encoded data removed]",
      "text/plain": [
       "<Figure size 432x288 with 1 Axes>"
      ]
     },
     "metadata": {},
     "output_type": "display_data"
    }
   ],
   "source": [
    "files_dict_loc = '/media/rene/data/hvae/shapes/sz32_rand_size_loc_fill/files_dict.pkl'\n",
    "with open(files_dict_loc, 'rb') as f:\n",
    "    files_dict = pickle.load(f)['val']\n",
    "    \n",
    "grid_width = 3\n",
    "shape_img_size = 32\n",
    "\n",
    "sample_df = files_df.sample(n=9)\n",
    "grid_img = np.zeros((grid_width*shape_img_size, grid_width*shape_img_size))\n",
    "\n",
    "for i in range(grid_width*grid_width):\n",
    "    im = Image.open(sample_df.iloc[i]['path'])\n",
    "    grid_img[(i//grid_width)*shape_img_size: (1+i//grid_width)*shape_img_size , (i%grid_width)*shape_img_size: (1+i%grid_width)*shape_img_size] = im\n",
    "    \n",
    "imshow(np.asarray(grid_img))"
   ]
  },
  {
   "cell_type": "code",
   "execution_count": null,
   "metadata": {},
   "outputs": [],
   "source": [
    "\n"
   ]
  },
  {
   "cell_type": "code",
   "execution_count": null,
   "metadata": {},
   "outputs": [],
   "source": []
  }
 ],
 "metadata": {
  "kernelspec": {
   "display_name": "ADV",
   "language": "python",
   "name": "adv"
  },
  "language_info": {
   "codemirror_mode": {
    "name": "ipython",
    "version": 3
   },
   "file_extension": ".py",
   "mimetype": "text/x-python",
   "name": "python",
   "nbconvert_exporter": "python",
   "pygments_lexer": "ipython3",
   "version": "3.6.3"
  }
 },
 "nbformat": 4,
 "nbformat_minor": 2
}
